{
 "cells": [
  {
   "cell_type": "markdown",
   "id": "0fb26f6f",
   "metadata": {},
   "source": [
    "## 1.What are the two values of the Boolean data type? How do you write them?\n"
   ]
  },
  {
   "cell_type": "markdown",
   "id": "2753432a",
   "metadata": {},
   "source": [
    "* Boolean data type can have only two values: True and False.\n",
    "* False values can be represented in following ways:\n",
    "* False,0 , the strings \"0\" and \"\" , the empty list () , and the special value undef.\n",
    "* Except all values are considered as True values"
   ]
  },
  {
   "cell_type": "markdown",
   "id": "009f699a",
   "metadata": {},
   "source": [
    "## 2. What are the three different types of Boolean operators?"
   ]
  },
  {
   "cell_type": "code",
   "execution_count": 29,
   "id": "6d556d38",
   "metadata": {},
   "outputs": [
    {
     "data": {
      "text/plain": [
       "'* Following are the three Boolean operators:\\n* 1.\\tNot operator: This is unary operator as It takes one argument and returns the opposite result: False for True and True for False.\\n* A\\t    not A\\n* True\\tFalse\\n* False\\tTrue\\n\\n* 2.\\tOR operator: This is binary operator as it takes two arguments. The value of the or operator is True unless both of its inputs are False. \\n* A\\t     B\\t   A or B\\n* True\\tTrue\\tTrue\\n* False\\tTrue\\tTrue\\n* True\\tFalse\\tTrue\\n* False\\tFalse\\tFalse\\n\\n* 3.\\tAND operator: This is binary operator as The and operator takes two arguments. It evaluates to True only if both inputs are True.\\n* A\\t     B\\t   A and B\\n* True\\tTrue\\tTrue\\n* False\\tTrue\\tFalse\\n* True\\tFalse\\tFalse\\n* False\\tFalse\\tFalse'"
      ]
     },
     "execution_count": 29,
     "metadata": {},
     "output_type": "execute_result"
    }
   ],
   "source": [
    "\"\"\"* Following are the three Boolean operators:\n",
    "* 1.\tNot operator: This is unary operator as It takes one argument and returns the opposite result: False for True and True for False.\n",
    "* A\t    not A\n",
    "* True\tFalse\n",
    "* False\tTrue\n",
    "\n",
    "* 2.\tOR operator: This is binary operator as it takes two arguments. The value of the or operator is True unless both of its inputs are False. \n",
    "* A\t     B\t   A or B\n",
    "* True\tTrue\tTrue\n",
    "* False\tTrue\tTrue\n",
    "* True\tFalse\tTrue\n",
    "* False\tFalse\tFalse\n",
    "\n",
    "* 3.\tAND operator: This is binary operator as The and operator takes two arguments. It evaluates to True only if both inputs are True.\n",
    "* A\t     B\t   A and B\n",
    "* True\tTrue\tTrue\n",
    "* False\tTrue\tFalse\n",
    "* True\tFalse\tFalse\n",
    "* False\tFalse\tFalse\"\"\"\n"
   ]
  },
  {
   "cell_type": "markdown",
   "id": "bcdb64d5",
   "metadata": {},
   "source": [
    "## 3.\tMake a list of each Boolean operator's truth tables (i.e. every possible combination of Boolean values for the operator and what it evaluate )."
   ]
  },
  {
   "cell_type": "code",
   "execution_count": 30,
   "id": "9171808f",
   "metadata": {},
   "outputs": [
    {
     "data": {
      "text/plain": [
       "'Not Operator-\\nA\\t\\t    not A\\nTrue\\t\\tFalse\\nFalse\\t\\tTrue\\nOr Operator:\\nA\\t\\t      B\\t\\t   A or B\\nTrue\\t\\tTrue\\t\\tTrue\\nFalse\\t\\tTrue\\t\\tTrue\\nTrue\\t\\tFalse\\t\\tTrue\\nFalse\\t\\tFalse\\t\\tFalse\\nAnd Operator:\\nA\\t\\t     B\\t       A and B\\nTrue\\t\\tTrue\\t    True\\nFalse\\t\\tTrue\\t    False\\nTrue\\t\\tFalse\\t    False\\nFalse\\t\\tFalse\\t    False\\n'"
      ]
     },
     "execution_count": 30,
     "metadata": {},
     "output_type": "execute_result"
    }
   ],
   "source": [
    "\"\"\"Not Operator-\n",
    "A\t\t    not A\n",
    "True\t\tFalse\n",
    "False\t\tTrue\n",
    "Or Operator:\n",
    "A\t\t      B\t\t   A or B\n",
    "True\t\tTrue\t\tTrue\n",
    "False\t\tTrue\t\tTrue\n",
    "True\t\tFalse\t\tTrue\n",
    "False\t\tFalse\t\tFalse\n",
    "And Operator:\n",
    "A\t\t     B\t       A and B\n",
    "True\t\tTrue\t    True\n",
    "False\t\tTrue\t    False\n",
    "True\t\tFalse\t    False\n",
    "False\t\tFalse\t    False\n",
    "\"\"\""
   ]
  },
  {
   "cell_type": "markdown",
   "id": "21752a9c",
   "metadata": {},
   "source": [
    "## 4. What are the values of the following expressions?"
   ]
  },
  {
   "cell_type": "code",
   "execution_count": 2,
   "id": "c0cb2317",
   "metadata": {},
   "outputs": [
    {
     "data": {
      "text/plain": [
       "False"
      ]
     },
     "execution_count": 2,
     "metadata": {},
     "output_type": "execute_result"
    }
   ],
   "source": [
    "(5 > 4) and (3 == 5)"
   ]
  },
  {
   "cell_type": "code",
   "execution_count": 3,
   "id": "81be09d4",
   "metadata": {},
   "outputs": [
    {
     "data": {
      "text/plain": [
       "False"
      ]
     },
     "execution_count": 3,
     "metadata": {},
     "output_type": "execute_result"
    }
   ],
   "source": [
    "not (5 > 4)"
   ]
  },
  {
   "cell_type": "code",
   "execution_count": 4,
   "id": "5967ff10",
   "metadata": {},
   "outputs": [
    {
     "data": {
      "text/plain": [
       "True"
      ]
     },
     "execution_count": 4,
     "metadata": {},
     "output_type": "execute_result"
    }
   ],
   "source": [
    "(5 > 4) or (3 == 5)"
   ]
  },
  {
   "cell_type": "code",
   "execution_count": 5,
   "id": "62070ac4",
   "metadata": {},
   "outputs": [
    {
     "data": {
      "text/plain": [
       "False"
      ]
     },
     "execution_count": 5,
     "metadata": {},
     "output_type": "execute_result"
    }
   ],
   "source": [
    "not ((5 > 4) or (3 == 5))"
   ]
  },
  {
   "cell_type": "code",
   "execution_count": 6,
   "id": "55a66e82",
   "metadata": {},
   "outputs": [
    {
     "data": {
      "text/plain": [
       "False"
      ]
     },
     "execution_count": 6,
     "metadata": {},
     "output_type": "execute_result"
    }
   ],
   "source": [
    "(True and True) and (True == False)"
   ]
  },
  {
   "cell_type": "code",
   "execution_count": 7,
   "id": "93db6104",
   "metadata": {},
   "outputs": [
    {
     "data": {
      "text/plain": [
       "True"
      ]
     },
     "execution_count": 7,
     "metadata": {},
     "output_type": "execute_result"
    }
   ],
   "source": [
    "(not False) or (not True)"
   ]
  },
  {
   "cell_type": "markdown",
   "id": "4d98d27e",
   "metadata": {},
   "source": [
    "## 5. What are the six comparison operators?"
   ]
  },
  {
   "cell_type": "code",
   "execution_count": 31,
   "id": "d67189db",
   "metadata": {},
   "outputs": [
    {
     "data": {
      "text/plain": [
       "'* == equal to\\n* != not equal to\\n* < less than\\n* >greater than\\n* <=less than or equal to\\n* >=greater than or equal to\\n'"
      ]
     },
     "execution_count": 31,
     "metadata": {},
     "output_type": "execute_result"
    }
   ],
   "source": [
    "\"\"\"* == equal to\n",
    "* != not equal to\n",
    "* < less than\n",
    "* >greater than\n",
    "* <=less than or equal to\n",
    "* >=greater than or equal to\n",
    "\"\"\""
   ]
  },
  {
   "cell_type": "markdown",
   "id": "0e76ab20",
   "metadata": {},
   "source": [
    "## 6. How do you tell the difference between the equal to and assignment operators?Describe a condition and when you would use one."
   ]
  },
  {
   "cell_type": "code",
   "execution_count": 32,
   "id": "fb3fd6d8",
   "metadata": {},
   "outputs": [
    {
     "data": {
      "text/plain": [
       "'equal to(==)\\n        this is a relationship operator which is used to check equality of one value to another value.\\n        conditional statements use equal to operator.\\n        Example:'"
      ]
     },
     "execution_count": 32,
     "metadata": {},
     "output_type": "execute_result"
    }
   ],
   "source": [
    "\"\"\"equal to(==)\n",
    "        this is a relationship operator which is used to check equality of one value to another value.\n",
    "        conditional statements use equal to operator.\n",
    "        Example:\"\"\""
   ]
  },
  {
   "cell_type": "code",
   "execution_count": 8,
   "id": "c77c6b69",
   "metadata": {},
   "outputs": [
    {
     "data": {
      "text/plain": [
       "False"
      ]
     },
     "execution_count": 8,
     "metadata": {},
     "output_type": "execute_result"
    }
   ],
   "source": [
    "3==5 #o/p false as 3 is not equal to 5"
   ]
  },
  {
   "cell_type": "code",
   "execution_count": 9,
   "id": "e2e8ef35",
   "metadata": {},
   "outputs": [
    {
     "data": {
      "text/plain": [
       "True"
      ]
     },
     "execution_count": 9,
     "metadata": {},
     "output_type": "execute_result"
    }
   ],
   "source": [
    "10==10 #O/p True as 10 is equal to 10"
   ]
  },
  {
   "cell_type": "code",
   "execution_count": 10,
   "id": "39cc132d",
   "metadata": {},
   "outputs": [
    {
     "name": "stdout",
     "output_type": "stream",
     "text": [
      "hello\n"
     ]
    }
   ],
   "source": [
    "#conditional statement \n",
    "if 3==3: #equal to operator\n",
    "    print(\"hello\")"
   ]
  },
  {
   "cell_type": "code",
   "execution_count": 33,
   "id": "dbf10cfa",
   "metadata": {},
   "outputs": [
    {
     "data": {
      "text/plain": [
       "'Assignment(=)\\n        This is used to assign value to a variable.\\n        it can be used alongwith arithmetic operators\\n        Example:'"
      ]
     },
     "execution_count": 33,
     "metadata": {},
     "output_type": "execute_result"
    }
   ],
   "source": [
    "\"\"\"Assignment(=)\n",
    "        This is used to assign value to a variable.\n",
    "        it can be used alongwith arithmetic operators\n",
    "        Example:\"\"\""
   ]
  },
  {
   "cell_type": "code",
   "execution_count": 11,
   "id": "973e14a8",
   "metadata": {},
   "outputs": [
    {
     "data": {
      "text/plain": [
       "6"
      ]
     },
     "execution_count": 11,
     "metadata": {},
     "output_type": "execute_result"
    }
   ],
   "source": [
    "x=5 #value of x is 5 now\n",
    "y=1 \n",
    "x+=y # arithmetic Assignment \n",
    "x     # value of x is 6 now"
   ]
  },
  {
   "cell_type": "markdown",
   "id": "c979a7a3",
   "metadata": {},
   "source": [
    "#### Hence we use equal to for checking the equality relationship between values whereas we use assignment operator to assign a value to a variable"
   ]
  },
  {
   "cell_type": "markdown",
   "id": "958ca59a",
   "metadata": {},
   "source": [
    "## Q 7. Identify the three blocks in this code:"
   ]
  },
  {
   "cell_type": "code",
   "execution_count": 1,
   "id": "ae650718",
   "metadata": {},
   "outputs": [
    {
     "name": "stdout",
     "output_type": "stream",
     "text": [
      "spam\n"
     ]
    },
    {
     "data": {
      "text/plain": [
       "'first block is declaration of spam and first if statement (from line no. 2 to 4) \\nsecond block is if-else block (line no. 5 to 8) and third block is two print statements (line no. 9 and 10)'"
      ]
     },
     "execution_count": 1,
     "metadata": {},
     "output_type": "execute_result"
    }
   ],
   "source": [
    "spam = 0\n",
    "if spam == 10:\n",
    "    print('eggs')\n",
    "    if spam > 5:\n",
    "        print('bacon')\n",
    "    else:\n",
    "        print('ham')\n",
    "    print('spam')\n",
    "print('spam')\n",
    "\n",
    "\n",
    "\"\"\"first block is print('eggs') (line no. 3)\n",
    "second block is print('bacon') (line no. 5) and \n",
    "third block is print('ham')  (line no. 7)\n",
    "\n",
    "As according to the definition of block, new block starts whenever there is increment in indentation\n",
    "and ends with decrement in indentation.\"\"\""
   ]
  },
  {
   "cell_type": "markdown",
   "id": "fffb5911",
   "metadata": {},
   "source": [
    "## 8. Write code that prints Hello if 1 is stored in spam, prints Howdy if 2 is stored in spam, and prints Greetings! if anything else is stored in spam.\n",
    "\n"
   ]
  },
  {
   "cell_type": "code",
   "execution_count": 13,
   "id": "62af0b95",
   "metadata": {},
   "outputs": [
    {
     "name": "stdout",
     "output_type": "stream",
     "text": [
      "enter the value of spam2\n",
      "Howdy\n"
     ]
    }
   ],
   "source": [
    "spam=int(input(\"enter the value of spam\"))\n",
    "if spam==1:\n",
    "    print(\"Hello\")\n",
    "elif spam==2 :\n",
    "    print(\"Howdy\")\n",
    "else:\n",
    "    print(\"Greetings !\")"
   ]
  },
  {
   "cell_type": "markdown",
   "id": "ee19907f",
   "metadata": {},
   "source": [
    "## 9.If your programme is stuck in an endless loop, what keys you’ll press?"
   ]
  },
  {
   "cell_type": "markdown",
   "id": "9f31e403",
   "metadata": {},
   "source": [
    "* in command prompt- press Ctrl+c\n",
    "* In jupiter notebook- press II"
   ]
  },
  {
   "cell_type": "markdown",
   "id": "b9d160f2",
   "metadata": {},
   "source": [
    "## 10. How can you tell the difference between break and continue?        "
   ]
  },
  {
   "cell_type": "markdown",
   "id": "175ecc75",
   "metadata": {},
   "source": [
    "### break\n",
    "            * This is a jump statemet which breaks normal flow of control and shifts control out of the current construct.\n",
    "            * It early terminates the loop.\n",
    "            * The break stops the continuation of the loop."
   ]
  },
  {
   "cell_type": "code",
   "execution_count": 26,
   "id": "fa8cd950",
   "metadata": {},
   "outputs": [
    {
     "name": "stdout",
     "output_type": "stream",
     "text": [
      "0\n",
      "1\n",
      "2\n",
      "we are out due to break\n"
     ]
    }
   ],
   "source": [
    "for i in range(5):\n",
    "    if i==3:\n",
    "        break\n",
    "    print(i)\n",
    "print(\"we are out due to break\")"
   ]
  },
  {
   "cell_type": "markdown",
   "id": "e39052ef",
   "metadata": {},
   "source": [
    "#### It is clear that when value of i became 3, break throws control out of current construct and so outer print statement got executed , we didn't get 3 and 4 in output."
   ]
  },
  {
   "cell_type": "markdown",
   "id": "7ed10ef0",
   "metadata": {},
   "source": [
    "### continue\n",
    "        * This is a jump statement which continues the execution of instruction for next iteration.\n",
    "        * It causes the early execution of the next iteration.\n",
    "        * The ‘continue’ does not stop the continuation of loop and it stops the current."
   ]
  },
  {
   "cell_type": "code",
   "execution_count": 27,
   "id": "b136b8f9",
   "metadata": {},
   "outputs": [
    {
     "name": "stdout",
     "output_type": "stream",
     "text": [
      "0\n",
      "1\n",
      "2\n",
      "4\n",
      "we are out due to break\n"
     ]
    }
   ],
   "source": [
    "for i in range(5):\n",
    "    if i==3:\n",
    "        continue\n",
    "    print(i)\n",
    "print(\"we are out due to break\")"
   ]
  },
  {
   "cell_type": "markdown",
   "id": "9f4852c8",
   "metadata": {},
   "source": [
    "#### It is clear that when value of i became 3, continue statement continuous execution for next iteration that is for i=4 and so we got 0,1,2,4 as well as outer print statement in output.\n",
    "\n",
    "#### hence the difference between outputs of above codes indicates difference between break and continue statement."
   ]
  },
  {
   "cell_type": "markdown",
   "id": "5c3c6031",
   "metadata": {},
   "source": [
    "## 11. In a for loop, what is the difference between range(10), range(0, 10), and range(0, 10, 1)?\n"
   ]
  },
  {
   "cell_type": "code",
   "execution_count": 14,
   "id": "7d7e9aae",
   "metadata": {},
   "outputs": [
    {
     "name": "stdout",
     "output_type": "stream",
     "text": [
      "0\n",
      "1\n",
      "2\n",
      "3\n",
      "4\n",
      "5\n",
      "6\n",
      "7\n",
      "8\n",
      "9\n"
     ]
    }
   ],
   "source": [
    "for i in range(10):\n",
    "    print(i)"
   ]
  },
  {
   "cell_type": "code",
   "execution_count": 15,
   "id": "51c3be9d",
   "metadata": {},
   "outputs": [
    {
     "name": "stdout",
     "output_type": "stream",
     "text": [
      "0\n",
      "1\n",
      "2\n",
      "3\n",
      "4\n",
      "5\n",
      "6\n",
      "7\n",
      "8\n",
      "9\n"
     ]
    }
   ],
   "source": [
    "for i in range(0,10):\n",
    "    print(i)"
   ]
  },
  {
   "cell_type": "code",
   "execution_count": 16,
   "id": "d2e8e45f",
   "metadata": {},
   "outputs": [
    {
     "name": "stdout",
     "output_type": "stream",
     "text": [
      "0\n",
      "1\n",
      "2\n",
      "3\n",
      "4\n",
      "5\n",
      "6\n",
      "7\n",
      "8\n",
      "9\n"
     ]
    }
   ],
   "source": [
    "for i in range(0,10,1):\n",
    "    print(i)"
   ]
  },
  {
   "cell_type": "markdown",
   "id": "e0b2dfa4",
   "metadata": {},
   "source": [
    "#### As we can see there is no difference between the outputs of above for loop constructs.all three loops are giving same output because range function holds three arguments:\n",
    "\n",
    "#### we  need to specify atleast one argument of range function.In first for loop value 10 indiacates stop and takes two arguments with default values(0 for start and 1 for step) ,second loop value(0,10) indiacates start and stop respectively and uses step's default value(1) and third loop holds all three required arguments (0,10,1) start, stop, step respectively.\n",
    "\n",
    "#### hence in all three cases values  of start, stop and step argument of range are same and so the outputs are.\n",
    "    "
   ]
  },
  {
   "cell_type": "raw",
   "id": "6e38a6ac",
   "metadata": {},
   "source": [
    "Argument name           default value\n",
    " Start                       0\n",
    " stop                        -\n",
    " step                        1\n"
   ]
  },
  {
   "cell_type": "markdown",
   "id": "d4a23c44",
   "metadata": {},
   "source": [
    "## 12. Write a short program that prints the numbers 1 to 10 using a for loop. Then write an equivalent program that prints the numbers 1 to 10 using a while loop.\n"
   ]
  },
  {
   "cell_type": "code",
   "execution_count": 17,
   "id": "866b40dc",
   "metadata": {},
   "outputs": [
    {
     "name": "stdout",
     "output_type": "stream",
     "text": [
      "1\n",
      "2\n",
      "3\n",
      "4\n",
      "5\n",
      "6\n",
      "7\n",
      "8\n",
      "9\n",
      "10\n"
     ]
    }
   ],
   "source": [
    "for i in range(1,11):\n",
    "    print(i)"
   ]
  },
  {
   "cell_type": "code",
   "execution_count": 18,
   "id": "0895f2db",
   "metadata": {},
   "outputs": [
    {
     "name": "stdout",
     "output_type": "stream",
     "text": [
      "1\n",
      "2\n",
      "3\n",
      "4\n",
      "5\n",
      "6\n",
      "7\n",
      "8\n",
      "9\n",
      "10\n"
     ]
    }
   ],
   "source": [
    "i=1\n",
    "while i in range(11):\n",
    "    print(i)\n",
    "    i+=1"
   ]
  },
  {
   "cell_type": "markdown",
   "id": "5d9a921a",
   "metadata": {},
   "source": [
    "## 13. If you had a function named bacon() inside a module named spam, how would you call it after importing spam?\n"
   ]
  },
  {
   "cell_type": "code",
   "execution_count": 21,
   "id": "d6344499",
   "metadata": {},
   "outputs": [
    {
     "ename": "ModuleNotFoundError",
     "evalue": "No module named 'spam'",
     "output_type": "error",
     "traceback": [
      "\u001b[1;31m---------------------------------------------------------------------------\u001b[0m",
      "\u001b[1;31mModuleNotFoundError\u001b[0m                       Traceback (most recent call last)",
      "\u001b[1;32m~\\AppData\\Local\\Temp/ipykernel_11784/1417680277.py\u001b[0m in \u001b[0;36m<module>\u001b[1;34m\u001b[0m\n\u001b[1;32m----> 1\u001b[1;33m \u001b[1;32mimport\u001b[0m \u001b[0mspam\u001b[0m\u001b[1;33m\u001b[0m\u001b[1;33m\u001b[0m\u001b[0m\n\u001b[0m\u001b[0;32m      2\u001b[0m \u001b[0mspam\u001b[0m\u001b[1;33m.\u001b[0m\u001b[0mbacon\u001b[0m\u001b[1;33m(\u001b[0m\u001b[1;33m)\u001b[0m\u001b[1;33m\u001b[0m\u001b[1;33m\u001b[0m\u001b[0m\n",
      "\u001b[1;31mModuleNotFoundError\u001b[0m: No module named 'spam'"
     ]
    }
   ],
   "source": [
    "import spam\n",
    "spam.bacon()"
   ]
  },
  {
   "cell_type": "code",
   "execution_count": null,
   "id": "5312f345",
   "metadata": {},
   "outputs": [],
   "source": []
  }
 ],
 "metadata": {
  "kernelspec": {
   "display_name": "Python 3 (ipykernel)",
   "language": "python",
   "name": "python3"
  },
  "language_info": {
   "codemirror_mode": {
    "name": "ipython",
    "version": 3
   },
   "file_extension": ".py",
   "mimetype": "text/x-python",
   "name": "python",
   "nbconvert_exporter": "python",
   "pygments_lexer": "ipython3",
   "version": "3.9.7"
  }
 },
 "nbformat": 4,
 "nbformat_minor": 5
}
